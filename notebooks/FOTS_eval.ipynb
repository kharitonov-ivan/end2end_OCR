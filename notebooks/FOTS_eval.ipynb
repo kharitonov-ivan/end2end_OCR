{
  "nbformat": 4,
  "nbformat_minor": 0,
  "metadata": {
    "colab": {
      "name": "FOTS_eval.ipynb",
      "version": "0.3.2",
      "provenance": [],
      "collapsed_sections": []
    },
    "kernelspec": {
      "name": "python3",
      "display_name": "Python 3"
    }
  },
  "cells": [
    {
      "cell_type": "code",
      "metadata": {
        "id": "tYlzj1WFaTNO",
        "colab_type": "code",
        "colab": {
          "base_uri": "https://localhost:8080/",
          "height": 122
        },
        "outputId": "609c346e-ff80-4101-d294-17507e8c0639"
      },
      "source": [
        "from google.colab import drive\n",
        "drive.mount('/content/gdrive')"
      ],
      "execution_count": 1,
      "outputs": [
        {
          "output_type": "stream",
          "text": [
            "Go to this URL in a browser: https://accounts.google.com/o/oauth2/auth?client_id=947318989803-6bn6qk8qdgf4n4g3pfee6491hc0brc4i.apps.googleusercontent.com&redirect_uri=urn%3Aietf%3Awg%3Aoauth%3A2.0%3Aoob&scope=email%20https%3A%2F%2Fwww.googleapis.com%2Fauth%2Fdocs.test%20https%3A%2F%2Fwww.googleapis.com%2Fauth%2Fdrive%20https%3A%2F%2Fwww.googleapis.com%2Fauth%2Fdrive.photos.readonly%20https%3A%2F%2Fwww.googleapis.com%2Fauth%2Fpeopleapi.readonly&response_type=code\n",
            "\n",
            "Enter your authorization code:\n",
            "··········\n",
            "Mounted at /content/gdrive\n"
          ],
          "name": "stdout"
        }
      ]
    },
    {
      "cell_type": "code",
      "metadata": {
        "id": "lAhb3Jgpa1de",
        "colab_type": "code",
        "colab": {
          "base_uri": "https://localhost:8080/",
          "height": 34
        },
        "outputId": "624aaf13-c5ec-4bde-c30a-1e816740d217"
      },
      "source": [
        "%cd /content/gdrive/My\\ Drive/End2end_text_recognition_YSDA/end2end_OCR"
      ],
      "execution_count": 13,
      "outputs": [
        {
          "output_type": "stream",
          "text": [
            "/content/gdrive/My Drive/End2end_text_recognition_YSDA/end2end_OCR\n"
          ],
          "name": "stdout"
        }
      ]
    },
    {
      "cell_type": "code",
      "metadata": {
        "id": "l39f1cCPcoyr",
        "colab_type": "code",
        "colab": {}
      },
      "source": [
        "!pip install -r requirments.txt"
      ],
      "execution_count": 0,
      "outputs": []
    },
    {
      "cell_type": "code",
      "metadata": {
        "id": "Ac6siX6SbOla",
        "colab_type": "code",
        "colab": {
          "base_uri": "https://localhost:8080/",
          "height": 51
        },
        "outputId": "abbe24d3-e339-42a7-fdc6-d287756fa7ea"
      },
      "source": [
        "!ls"
      ],
      "execution_count": 14,
      "outputs": [
        {
          "output_type": "stream",
          "text": [
            "base\t data_loader  logger  notebooks  requirments.txt  train.py\n",
            "configs  eval.py      model   README.md  trainer\t  utils\n"
          ],
          "name": "stdout"
        }
      ]
    },
    {
      "cell_type": "code",
      "metadata": {
        "id": "MfHrLAIdbUgh",
        "colab_type": "code",
        "colab": {
          "base_uri": "https://localhost:8080/",
          "height": 170
        },
        "outputId": "1c31dcf6-c9e3-453d-abdd-04ac93f54626"
      },
      "source": [
        "!python eval.py \\\n",
        "--model=\"../Checkpoints/FOTS_Synthtext/checkpoint-epoch001-loss-3.0105.pth.tar\" \\\n",
        "--image_dir=\"../datasets/ICDAR2015/ch4_test_images/\" \\\n",
        "--annotation_dir=\"..../datasets/ICDAR2015/Challenge4_Test_Task4_GT/\" \\\n",
        "--keys=\"alphabet_and_number\" \\\n",
        "--output_img_dir=\"../results/SynthText_training_epoch_1/img\" \\\n",
        "--output_txt_dir=\"../results/SynthText_training_epoch_1/text\" \\"
      ],
      "execution_count": 15,
      "outputs": [
        {
          "output_type": "stream",
          "text": [
            "make: Entering directory '/content/gdrive/My Drive/End2end_text_recognition_YSDA/end2end_OCR/utils/lanms'\n",
            "make: 'adaptor.so' is up to date.\n",
            "make: Leaving directory '/content/gdrive/My Drive/End2end_text_recognition_YSDA/end2end_OCR/utils/lanms'\n",
            "Traceback (most recent call last):\n",
            "  File \"eval.py\", line 11, in <module>\n",
            "    from model.model import FOTSModel\n",
            "  File \"/content/gdrive/My Drive/End2end_text_recognition_YSDA/end2end_OCR/model/model.py\", line 10, in <module>\n",
            "    import pretrainedmodels as pm\n",
            "ModuleNotFoundError: No module named 'pretrainedmodels'\n"
          ],
          "name": "stdout"
        }
      ]
    },
    {
      "cell_type": "code",
      "metadata": {
        "id": "IQ1isVd8cks1",
        "colab_type": "code",
        "colab": {}
      },
      "source": [
        ""
      ],
      "execution_count": 0,
      "outputs": []
    }
  ]
}